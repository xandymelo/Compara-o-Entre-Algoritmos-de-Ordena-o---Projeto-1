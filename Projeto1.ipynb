{
  "nbformat": 4,
  "nbformat_minor": 0,
  "metadata": {
    "colab": {
      "name": "Projeto1",
      "provenance": [],
      "collapsed_sections": [],
      "authorship_tag": "ABX9TyOWVvATaD+tnDkYLUeK0OO0",
      "include_colab_link": true
    },
    "kernelspec": {
      "name": "python3",
      "display_name": "Python 3"
    }
  },
  "cells": [
    {
      "cell_type": "markdown",
      "metadata": {
        "id": "view-in-github",
        "colab_type": "text"
      },
      "source": [
        "<a href=\"https://colab.research.google.com/github/xandymelo/Compara-o-Entre-Algoritmos-de-Ordena-o---Projeto-1/blob/main/Projeto1.ipynb\" target=\"_parent\"><img src=\"https://colab.research.google.com/assets/colab-badge.svg\" alt=\"Open In Colab\"/></a>"
      ]
    },
    {
      "cell_type": "code",
      "metadata": {
        "id": "9HDzAXpLVULa"
      },
      "source": [
        "import pandas as pd"
      ],
      "execution_count": null,
      "outputs": []
    },
    {
      "cell_type": "code",
      "metadata": {
        "id": "qxyze8BWVYKy"
      },
      "source": [
        "from random import shuffle\n",
        "import timeit\n",
        "from mergeSort import merge_sort\n",
        "from BinaryInsertion import insertion_sort\n",
        "from timSort import timsort"
      ],
      "execution_count": null,
      "outputs": []
    },
    {
      "cell_type": "markdown",
      "metadata": {
        "id": "tjtt0KV6r4j6"
      },
      "source": [
        "Criar o dataframe para um vetor de tamanho 1000\n"
      ]
    },
    {
      "cell_type": "code",
      "metadata": {
        "id": "3pXgWyg0VkqK"
      },
      "source": [
        "lista_crescente_1000 = list(range(10000))\n",
        "lista_decrescente_1000 = list(range(10000))\n",
        "lista_decrescente_1000 = sorted(lista_decrescente_1000,reverse=True)\n",
        "lista_aleatoria_1000 = list(range(10000))\n",
        "shuffle(lista_aleatoria_1000)\n",
        "listas = [lista_crescente_1000,lista_decrescente_1000,lista_aleatoria_1000]"
      ],
      "execution_count": null,
      "outputs": []
    },
    {
      "cell_type": "code",
      "metadata": {
        "id": "7iUq04xZVpv_",
        "outputId": "8974155b-0e32-4276-f655-6147f54f6a80",
        "colab": {
          "base_uri": "https://localhost:8080/",
          "height": 68
        }
      },
      "source": [
        "times_mergesort = []\n",
        "for c in listas:\n",
        "    \n",
        "    t = timeit.timeit(\"merge_sort({})\".format(c), \"from __main__ import merge_sort\",number = 8000)\n",
        "    print(t/8000)\n",
        "    times_mergesort.append(t/8000)"
      ],
      "execution_count": null,
      "outputs": [
        {
          "output_type": "stream",
          "text": [
            "0.038120866173125025\n",
            "0.03948545638025007\n",
            "0.06762331358937501\n"
          ],
          "name": "stdout"
        }
      ]
    },
    {
      "cell_type": "code",
      "metadata": {
        "id": "LgqJyKxNxRjd",
        "outputId": "6b51cf44-2620-40ae-f457-57d67fc1003e",
        "colab": {
          "base_uri": "https://localhost:8080/",
          "height": 68
        }
      },
      "source": [
        "times_binsertion_sort = []\n",
        "for c in listas:\n",
        "    \n",
        "    t = timeit.timeit(\"insertion_sort({})\".format(c), \"from __main__ import insertion_sort\",number = 2000)\n",
        "    print(t/2000)\n",
        "    times_binsertion_sort.append(t/2000)"
      ],
      "execution_count": null,
      "outputs": [
        {
          "output_type": "stream",
          "text": [
            "0.8505042493404998\n",
            "0.7218966586630003\n",
            "0.8917141174039999\n"
          ],
          "name": "stdout"
        }
      ]
    },
    {
      "cell_type": "code",
      "metadata": {
        "id": "0IDVcGr2yj8a",
        "outputId": "687a0253-524a-4754-9d76-475544c6d413",
        "colab": {
          "base_uri": "https://localhost:8080/",
          "height": 68
        }
      },
      "source": [
        "times_timsort = []\n",
        "for c in listas:\n",
        "    \n",
        "    t = timeit.timeit(\"timsort({})\".format(c), \"from __main__ import timsort\",number = 8000)\n",
        "    print (t / 8000)\n",
        "    times_timsort.append(t / 8000)"
      ],
      "execution_count": null,
      "outputs": [
        {
          "output_type": "stream",
          "text": [
            "0.02424893024512494\n",
            "0.04365582469087508\n",
            "0.05674237807875011\n"
          ],
          "name": "stdout"
        }
      ]
    },
    {
      "cell_type": "code",
      "metadata": {
        "id": "ov4xWn_y0DRe"
      },
      "source": [
        "index1 = [\"Lista\",'Merge Sort','Binary Insertion Sort','Tim Sort']\n",
        "timeCrescente = ['Crescente',times_mergesort[0],times_binsertion_sort[0],times_timsort[0]]\n",
        "trocaCrescente = ['',143615, 0,9361]\n",
        "decrescente = ['Decrescente',times_mergesort[1],times_binsertion_sort[1],times_timsort[1]]\n",
        "trocaDecrescente = ['',143615,9999,198045]\n",
        "aleatorio = ['Aleatório',times_mergesort[2],times_binsertion_sort[2],times_timsort[2]]\n",
        "trocaAleatório = ['',143615,9986,142296]"
      ],
      "execution_count": null,
      "outputs": []
    },
    {
      "cell_type": "code",
      "metadata": {
        "id": "ZtjzqocUVwi-"
      },
      "source": [
        "algoritmos = {\"Tempo\": timeCrescente,\"Trocas\": trocaCrescente,\"Tempo2\":decrescente, 'Trocas2': trocaDecrescente, \"Tempo3\":aleatorio, 'Trocas3': trocaAleatório}"
      ],
      "execution_count": null,
      "outputs": []
    },
    {
      "cell_type": "code",
      "metadata": {
        "id": "lxCJCgZOaIOj"
      },
      "source": [
        "df_1000 = pd.DataFrame(algoritmos, columns = [\"Tempo\",'Trocas',\"Tempo2\", 'Trocas2',\"Tempo3\", 'Trocas3'],index=index1)"
      ],
      "execution_count": null,
      "outputs": []
    },
    {
      "cell_type": "code",
      "metadata": {
        "id": "bUEWc7m4Zfa0"
      },
      "source": [
        "df_1000.columns = ['Tempo', 'Trocas', 'Tempo', 'Trocas', 'Tempo', 'Trocas']"
      ],
      "execution_count": null,
      "outputs": []
    },
    {
      "cell_type": "code",
      "metadata": {
        "id": "xCV_H5TWrUt1"
      },
      "source": [
        "df_1000.columns = pd.MultiIndex.from_product([['Tamanho 10000'], df_1000.columns])"
      ],
      "execution_count": null,
      "outputs": []
    },
    {
      "cell_type": "code",
      "metadata": {
        "id": "391U1BACaKan",
        "outputId": "5e15fc87-4285-4eb6-a3fe-3405aca5e9eb",
        "colab": {
          "base_uri": "https://localhost:8080/",
          "height": 204
        }
      },
      "source": [
        "df_1000.head()"
      ],
      "execution_count": null,
      "outputs": [
        {
          "output_type": "execute_result",
          "data": {
            "text/html": [
              "<div>\n",
              "<style scoped>\n",
              "    .dataframe tbody tr th:only-of-type {\n",
              "        vertical-align: middle;\n",
              "    }\n",
              "\n",
              "    .dataframe tbody tr th {\n",
              "        vertical-align: top;\n",
              "    }\n",
              "\n",
              "    .dataframe thead tr th {\n",
              "        text-align: left;\n",
              "    }\n",
              "</style>\n",
              "<table border=\"1\" class=\"dataframe\">\n",
              "  <thead>\n",
              "    <tr>\n",
              "      <th></th>\n",
              "      <th colspan=\"6\" halign=\"left\">Tamanho 10000</th>\n",
              "    </tr>\n",
              "    <tr>\n",
              "      <th></th>\n",
              "      <th>Tempo</th>\n",
              "      <th>Trocas</th>\n",
              "      <th>Tempo</th>\n",
              "      <th>Trocas</th>\n",
              "      <th>Tempo</th>\n",
              "      <th>Trocas</th>\n",
              "    </tr>\n",
              "  </thead>\n",
              "  <tbody>\n",
              "    <tr>\n",
              "      <th>Lista</th>\n",
              "      <td>Crescente</td>\n",
              "      <td></td>\n",
              "      <td>Decrescente</td>\n",
              "      <td></td>\n",
              "      <td>Aleatório</td>\n",
              "      <td></td>\n",
              "    </tr>\n",
              "    <tr>\n",
              "      <th>Merge Sort</th>\n",
              "      <td>0.0381209</td>\n",
              "      <td>143615</td>\n",
              "      <td>0.0394855</td>\n",
              "      <td>143615</td>\n",
              "      <td>0.0676233</td>\n",
              "      <td>143615</td>\n",
              "    </tr>\n",
              "    <tr>\n",
              "      <th>Binary Insertion Sort</th>\n",
              "      <td>0.850504</td>\n",
              "      <td>0</td>\n",
              "      <td>0.721897</td>\n",
              "      <td>9999</td>\n",
              "      <td>0.891714</td>\n",
              "      <td>9986</td>\n",
              "    </tr>\n",
              "    <tr>\n",
              "      <th>Tim Sort</th>\n",
              "      <td>0.0242489</td>\n",
              "      <td>9361</td>\n",
              "      <td>0.0436558</td>\n",
              "      <td>198045</td>\n",
              "      <td>0.0567424</td>\n",
              "      <td>142296</td>\n",
              "    </tr>\n",
              "  </tbody>\n",
              "</table>\n",
              "</div>"
            ],
            "text/plain": [
              "                      Tamanho 10000          ...                   \n",
              "                              Tempo  Trocas  ...      Tempo  Trocas\n",
              "Lista                     Crescente          ...  Aleatório        \n",
              "Merge Sort                0.0381209  143615  ...  0.0676233  143615\n",
              "Binary Insertion Sort      0.850504       0  ...   0.891714    9986\n",
              "Tim Sort                  0.0242489    9361  ...  0.0567424  142296\n",
              "\n",
              "[4 rows x 6 columns]"
            ]
          },
          "metadata": {
            "tags": []
          },
          "execution_count": 113
        }
      ]
    }
  ]
}